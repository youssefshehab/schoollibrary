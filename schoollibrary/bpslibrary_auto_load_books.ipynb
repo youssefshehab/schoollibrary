{
 "cells": [
  {
   "cell_type": "markdown",
   "metadata": {},
   "source": [
    "# Auto load books\n"
   ]
  },
  {
   "cell_type": "code",
   "execution_count": 4,
   "metadata": {},
   "outputs": [],
   "source": [
    "#!cd /home/youssef/Workspace/projects/schoollibrary/schoollibrary\n",
    "\n"
   ]
  },
  {
   "cell_type": "code",
   "execution_count": 2,
   "metadata": {},
   "outputs": [
    {
     "name": "stdout",
     "output_type": "stream",
     "text": [
      "/home/youssef/Workspace/projects/schoollibrary/schoollibrary\r\n"
     ]
    }
   ],
   "source": [
    "!pwd"
   ]
  },
  {
   "cell_type": "code",
   "execution_count": 1,
   "metadata": {},
   "outputs": [
    {
     "name": "stdout",
     "output_type": "stream",
     "text": [
      "2018-01-17 20:36:37,518 INFO sqlalchemy.engine.base.Engine SELECT CAST('test plain returns' AS VARCHAR(60)) AS anon_1\n",
      "2018-01-17 20:36:37,519 INFO sqlalchemy.engine.base.Engine ()\n",
      "2018-01-17 20:36:37,520 INFO sqlalchemy.engine.base.Engine SELECT CAST('test unicode returns' AS VARCHAR(60)) AS anon_1\n",
      "2018-01-17 20:36:37,521 INFO sqlalchemy.engine.base.Engine ()\n",
      "2018-01-17 20:36:37,522 INFO sqlalchemy.engine.base.Engine PRAGMA table_info(\"book_author\")\n",
      "2018-01-17 20:36:37,523 INFO sqlalchemy.engine.base.Engine ()\n",
      "2018-01-17 20:36:37,525 INFO sqlalchemy.engine.base.Engine PRAGMA table_info(\"book_category\")\n",
      "2018-01-17 20:36:37,525 INFO sqlalchemy.engine.base.Engine ()\n",
      "2018-01-17 20:36:37,526 INFO sqlalchemy.engine.base.Engine PRAGMA table_info(\"classrooms\")\n",
      "2018-01-17 20:36:37,527 INFO sqlalchemy.engine.base.Engine ()\n",
      "2018-01-17 20:36:37,528 INFO sqlalchemy.engine.base.Engine PRAGMA table_info(\"pupils\")\n",
      "2018-01-17 20:36:37,528 INFO sqlalchemy.engine.base.Engine ()\n",
      "2018-01-17 20:36:37,529 INFO sqlalchemy.engine.base.Engine PRAGMA table_info(\"categories\")\n",
      "2018-01-17 20:36:37,530 INFO sqlalchemy.engine.base.Engine ()\n",
      "2018-01-17 20:36:37,531 INFO sqlalchemy.engine.base.Engine PRAGMA table_info(\"authors\")\n",
      "2018-01-17 20:36:37,531 INFO sqlalchemy.engine.base.Engine ()\n",
      "2018-01-17 20:36:37,533 INFO sqlalchemy.engine.base.Engine PRAGMA table_info(\"books\")\n",
      "2018-01-17 20:36:37,533 INFO sqlalchemy.engine.base.Engine ()\n",
      "2018-01-17 20:36:37,535 INFO sqlalchemy.engine.base.Engine PRAGMA table_info(\"users\")\n",
      "2018-01-17 20:36:37,536 INFO sqlalchemy.engine.base.Engine ()\n",
      "2018-01-17 20:36:37,537 INFO sqlalchemy.engine.base.Engine PRAGMA table_info(\"loans\")\n",
      "2018-01-17 20:36:37,538 INFO sqlalchemy.engine.base.Engine ()\n"
     ]
    }
   ],
   "source": [
    "!source bpslibrary/bin/activate\n",
    "\n",
    "from urllib import request as urllib_request\n",
    "from time import sleep\n",
    "import re\n",
    "import sqlite3\n",
    "from flask import Blueprint, flash, redirect, render_template, request\n",
    "#from flask_login import current_user\n",
    "#from flask_paginate import Pagination, get_page_parameter\n",
    "from sqlalchemy import exc, or_\n",
    "from bpslibrary import app\n",
    "from bpslibrary.database import db_session\n",
    "from bpslibrary.forms import NewLoanForm, LoanReturnForm\n",
    "from bpslibrary.models import Author, Book, Category, Pupil\n",
    "from bpslibrary.utils.barcode import scan_for_isbn\n",
    "from bpslibrary.utils.apihandler import APIClient\n",
    "from bpslibrary.utils.permission import admin_access_required\n",
    "from bpslibrary.utils.enums import BookLocation\n"
   ]
  },
  {
   "cell_type": "code",
   "execution_count": 3,
   "metadata": {},
   "outputs": [],
   "source": [
    "\n",
    "def auto_load_books():\n",
    "    \"\"\"Automated book loading.\n",
    "\n",
    "    Combining the lookup and add functions, this function aims at bulk\n",
    "    loading of books in the background.\n",
    "    \"\"\"\n",
    "    session = db_session()\n",
    "    lookup_limit = request.args.get('n')\n",
    "\n",
    "    # lookup books\n",
    "    succeeded = []\n",
    "    failed = []\n",
    "\n",
    "    try:\n",
    "        for isbn in execute_sql('fetch_isbn', lookup_limit):\n",
    "            api_client = APIClient(isbn, None)\n",
    "            found_books = api_client.find_books(direct_search_only=True)\n",
    "\n",
    "            # ensure we don't exceed google api usage limit\n",
    "            sleep(20)\n",
    "\n",
    "            # to ensure only the right book is added, only search resulting\n",
    "            # yielding 1 result is accepted.\n",
    "            if len(found_books) != 1:\n",
    "                failed.append(\n",
    "                    (isbn[0], \"search results %d\" % len(found_books)))\n",
    "                continue\n",
    "\n",
    "            # now we add the book.\n",
    "            book = found_books[0]\n",
    "\n",
    "            # defaults\n",
    "            book.is_available = True\n",
    "            book.current_location = BookLocation.LIBRARY.value\n",
    "\n",
    "            if book.thumbnail_url:\n",
    "                image_name = ''.join(\n",
    "                    [c for c in book.title.replace(' ', '_')\n",
    "                     if re.match(r'\\w', c)]) + book.isbn13 + '.jpg'\n",
    "                img = open(THUMBNAILS_ABSOLUTE_DIR + image_name, 'wb')\n",
    "                img.write(urllib_request.urlopen(book.thumbnail_url).read())\n",
    "                book.image_name = image_name\n",
    "\n",
    "            for i in range(len(book.authors)):\n",
    "                lookup_author = Author.query.filter(\n",
    "                    Author.name == book.authors[i].name).first()\n",
    "                if lookup_author:\n",
    "                    book.authors[i] = None\n",
    "                    book.authors[i] = lookup_author\n",
    "\n",
    "            for i in range(len(book.categories)):\n",
    "                lookup_category = Category.query.filter(\n",
    "                    Category.name == book.categories[i].name).first()\n",
    "                if lookup_category:\n",
    "                    book.categories[i] = None\n",
    "                    book.categories[i] = lookup_category\n",
    "\n",
    "            session.add(book)\n",
    "            session.commit()\n",
    "            succeeded.append(isbn[0])\n",
    "\n",
    "        execute_sql('update_success', succeeded=succeeded)\n",
    "        execute_sql('update_failed', failed=failed)\n",
    "\n",
    "    except RuntimeError as rt_error:\n",
    "        print(str(rt_error))"
   ]
  },
  {
   "cell_type": "code",
   "execution_count": 4,
   "metadata": {},
   "outputs": [],
   "source": [
    "def execute_sql(action, lookup_limit=10, failed=None, succeeded=None):\n",
    "    \"\"\"Execute sql to fetch isbns to lookup or update lookup status.\"\"\"\n",
    "    # update the lookup table\n",
    "    connection = sqlite3.connect(\n",
    "        app.config['DATABASE_URI'].replace('sqlite:///', ''))\n",
    "    cursor = connection.cursor()\n",
    "    sql = \"\"\n",
    "    if action == 'fetch_isbn':\n",
    "        sql = \"\"\"\n",
    "            SELECT DISTINCT isbn\n",
    "            FROM isbn_lookup\n",
    "            WHERE status IS NULL\n",
    "            OR status NOT LIKE '%SUCCESS%'\n",
    "            ORDER BY last_check\n",
    "            LIMIT {0};\n",
    "            \"\"\".format(int(lookup_limit))\n",
    "        cursor.execute(sql)\n",
    "        return cursor.fetchall()\n",
    "\n",
    "    if action == 'update_success':\n",
    "        assert (succeeded is not None), \"Succeeded list is None.\"\n",
    "        sql = \"\"\"\n",
    "            UPDATE isbn_lookup\n",
    "            SET\n",
    "                status = 'SUCCESS_DIRECT',\n",
    "                last_check = CURRENT_TIMESTAMP\n",
    "            WHERE isbn in ('{0}');\n",
    "            \"\"\".format(\"','\".join(str(i) for i in succeeded))\n",
    "        cursor.execute(sql)\n",
    "        connection.commit()\n",
    "\n",
    "    if action == 'update_failed':\n",
    "        assert (failed is not None), \"Failed list is None.\"\n",
    "        sql = \"\"\"\n",
    "            UPDATE isbn_lookup\n",
    "                SET errors = CASE isbn \"\"\"\n",
    "        for isbn, error in failed:\n",
    "            sql += \" WHEN '%s' THEN errors + '|%s'\" % (isbn, error)\n",
    "        sql += \"\"\" ELSE errors END,\n",
    "            last_check = CURRENT_TIMESTAMP,\n",
    "            status = 'FAILED_DIRECT'\n",
    "            WHERE isbn IN ('%s');\"\"\" % \"','\".join([str(i) for i, e in failed])\n",
    "        cursor.execute(sql)\n",
    "        connection.commit()\n",
    "\n",
    "    connection.close()\n"
   ]
  },
  {
   "cell_type": "code",
   "execution_count": 5,
   "metadata": {},
   "outputs": [
    {
     "ename": "RuntimeError",
     "evalue": "Working outside of request context.\n\nThis typically means that you attempted to use functionality that needed\nan active HTTP request.  Consult the documentation on testing for\ninformation about how to avoid this problem.",
     "output_type": "error",
     "traceback": [
      "\u001b[0;31m---------------------------------------------------------------------------\u001b[0m",
      "\u001b[0;31mRuntimeError\u001b[0m                              Traceback (most recent call last)",
      "\u001b[0;32m<ipython-input-5-e02ee77fe8ba>\u001b[0m in \u001b[0;36m<module>\u001b[0;34m()\u001b[0m\n\u001b[0;32m----> 1\u001b[0;31m \u001b[0mauto_load_books\u001b[0m\u001b[0;34m(\u001b[0m\u001b[0;34m)\u001b[0m\u001b[0;34m\u001b[0m\u001b[0m\n\u001b[0m",
      "\u001b[0;32m<ipython-input-3-30526894f427>\u001b[0m in \u001b[0;36mauto_load_books\u001b[0;34m()\u001b[0m\n\u001b[1;32m      7\u001b[0m     \"\"\"\n\u001b[1;32m      8\u001b[0m     \u001b[0msession\u001b[0m \u001b[0;34m=\u001b[0m \u001b[0mdb_session\u001b[0m\u001b[0;34m(\u001b[0m\u001b[0;34m)\u001b[0m\u001b[0;34m\u001b[0m\u001b[0m\n\u001b[0;32m----> 9\u001b[0;31m     \u001b[0mlookup_limit\u001b[0m \u001b[0;34m=\u001b[0m \u001b[0mrequest\u001b[0m\u001b[0;34m.\u001b[0m\u001b[0margs\u001b[0m\u001b[0;34m.\u001b[0m\u001b[0mget\u001b[0m\u001b[0;34m(\u001b[0m\u001b[0;34m'n'\u001b[0m\u001b[0;34m)\u001b[0m\u001b[0;34m\u001b[0m\u001b[0m\n\u001b[0m\u001b[1;32m     10\u001b[0m \u001b[0;34m\u001b[0m\u001b[0m\n\u001b[1;32m     11\u001b[0m     \u001b[0;31m# lookup books\u001b[0m\u001b[0;34m\u001b[0m\u001b[0;34m\u001b[0m\u001b[0m\n",
      "\u001b[0;32m~/Workspace/projects/schoollibrary/schoollibrary/bpslibrary/lib/python3.6/site-packages/werkzeug/local.py\u001b[0m in \u001b[0;36m__getattr__\u001b[0;34m(self, name)\u001b[0m\n\u001b[1;32m    345\u001b[0m         \u001b[0;32mif\u001b[0m \u001b[0mname\u001b[0m \u001b[0;34m==\u001b[0m \u001b[0;34m'__members__'\u001b[0m\u001b[0;34m:\u001b[0m\u001b[0;34m\u001b[0m\u001b[0m\n\u001b[1;32m    346\u001b[0m             \u001b[0;32mreturn\u001b[0m \u001b[0mdir\u001b[0m\u001b[0;34m(\u001b[0m\u001b[0mself\u001b[0m\u001b[0;34m.\u001b[0m\u001b[0m_get_current_object\u001b[0m\u001b[0;34m(\u001b[0m\u001b[0;34m)\u001b[0m\u001b[0;34m)\u001b[0m\u001b[0;34m\u001b[0m\u001b[0m\n\u001b[0;32m--> 347\u001b[0;31m         \u001b[0;32mreturn\u001b[0m \u001b[0mgetattr\u001b[0m\u001b[0;34m(\u001b[0m\u001b[0mself\u001b[0m\u001b[0;34m.\u001b[0m\u001b[0m_get_current_object\u001b[0m\u001b[0;34m(\u001b[0m\u001b[0;34m)\u001b[0m\u001b[0;34m,\u001b[0m \u001b[0mname\u001b[0m\u001b[0;34m)\u001b[0m\u001b[0;34m\u001b[0m\u001b[0m\n\u001b[0m\u001b[1;32m    348\u001b[0m \u001b[0;34m\u001b[0m\u001b[0m\n\u001b[1;32m    349\u001b[0m     \u001b[0;32mdef\u001b[0m \u001b[0m__setitem__\u001b[0m\u001b[0;34m(\u001b[0m\u001b[0mself\u001b[0m\u001b[0;34m,\u001b[0m \u001b[0mkey\u001b[0m\u001b[0;34m,\u001b[0m \u001b[0mvalue\u001b[0m\u001b[0;34m)\u001b[0m\u001b[0;34m:\u001b[0m\u001b[0;34m\u001b[0m\u001b[0m\n",
      "\u001b[0;32m~/Workspace/projects/schoollibrary/schoollibrary/bpslibrary/lib/python3.6/site-packages/werkzeug/local.py\u001b[0m in \u001b[0;36m_get_current_object\u001b[0;34m(self)\u001b[0m\n\u001b[1;32m    304\u001b[0m         \"\"\"\n\u001b[1;32m    305\u001b[0m         \u001b[0;32mif\u001b[0m \u001b[0;32mnot\u001b[0m \u001b[0mhasattr\u001b[0m\u001b[0;34m(\u001b[0m\u001b[0mself\u001b[0m\u001b[0;34m.\u001b[0m\u001b[0m__local\u001b[0m\u001b[0;34m,\u001b[0m \u001b[0;34m'__release_local__'\u001b[0m\u001b[0;34m)\u001b[0m\u001b[0;34m:\u001b[0m\u001b[0;34m\u001b[0m\u001b[0m\n\u001b[0;32m--> 306\u001b[0;31m             \u001b[0;32mreturn\u001b[0m \u001b[0mself\u001b[0m\u001b[0;34m.\u001b[0m\u001b[0m__local\u001b[0m\u001b[0;34m(\u001b[0m\u001b[0;34m)\u001b[0m\u001b[0;34m\u001b[0m\u001b[0m\n\u001b[0m\u001b[1;32m    307\u001b[0m         \u001b[0;32mtry\u001b[0m\u001b[0;34m:\u001b[0m\u001b[0;34m\u001b[0m\u001b[0m\n\u001b[1;32m    308\u001b[0m             \u001b[0;32mreturn\u001b[0m \u001b[0mgetattr\u001b[0m\u001b[0;34m(\u001b[0m\u001b[0mself\u001b[0m\u001b[0;34m.\u001b[0m\u001b[0m__local\u001b[0m\u001b[0;34m,\u001b[0m \u001b[0mself\u001b[0m\u001b[0;34m.\u001b[0m\u001b[0m__name__\u001b[0m\u001b[0;34m)\u001b[0m\u001b[0;34m\u001b[0m\u001b[0m\n",
      "\u001b[0;32m~/Workspace/projects/schoollibrary/schoollibrary/bpslibrary/lib/python3.6/site-packages/flask/globals.py\u001b[0m in \u001b[0;36m_lookup_req_object\u001b[0;34m(name)\u001b[0m\n\u001b[1;32m     35\u001b[0m     \u001b[0mtop\u001b[0m \u001b[0;34m=\u001b[0m \u001b[0m_request_ctx_stack\u001b[0m\u001b[0;34m.\u001b[0m\u001b[0mtop\u001b[0m\u001b[0;34m\u001b[0m\u001b[0m\n\u001b[1;32m     36\u001b[0m     \u001b[0;32mif\u001b[0m \u001b[0mtop\u001b[0m \u001b[0;32mis\u001b[0m \u001b[0;32mNone\u001b[0m\u001b[0;34m:\u001b[0m\u001b[0;34m\u001b[0m\u001b[0m\n\u001b[0;32m---> 37\u001b[0;31m         \u001b[0;32mraise\u001b[0m \u001b[0mRuntimeError\u001b[0m\u001b[0;34m(\u001b[0m\u001b[0m_request_ctx_err_msg\u001b[0m\u001b[0;34m)\u001b[0m\u001b[0;34m\u001b[0m\u001b[0m\n\u001b[0m\u001b[1;32m     38\u001b[0m     \u001b[0;32mreturn\u001b[0m \u001b[0mgetattr\u001b[0m\u001b[0;34m(\u001b[0m\u001b[0mtop\u001b[0m\u001b[0;34m,\u001b[0m \u001b[0mname\u001b[0m\u001b[0;34m)\u001b[0m\u001b[0;34m\u001b[0m\u001b[0m\n\u001b[1;32m     39\u001b[0m \u001b[0;34m\u001b[0m\u001b[0m\n",
      "\u001b[0;31mRuntimeError\u001b[0m: Working outside of request context.\n\nThis typically means that you attempted to use functionality that needed\nan active HTTP request.  Consult the documentation on testing for\ninformation about how to avoid this problem."
     ]
    }
   ],
   "source": [
    "auto_load_books()"
   ]
  }
 ],
 "metadata": {
  "kernelspec": {
   "display_name": "Python 3",
   "language": "python",
   "name": "python3"
  },
  "language_info": {
   "codemirror_mode": {
    "name": "ipython",
    "version": 3
   },
   "file_extension": ".py",
   "mimetype": "text/x-python",
   "name": "python",
   "nbconvert_exporter": "python",
   "pygments_lexer": "ipython3",
   "version": "3.6.4"
  }
 },
 "nbformat": 4,
 "nbformat_minor": 2
}
